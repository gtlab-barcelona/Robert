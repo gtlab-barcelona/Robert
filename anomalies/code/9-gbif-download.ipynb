{
 "cells": [
  {
   "cell_type": "markdown",
   "metadata": {},
   "source": [
    "# Data download from GBIF"
   ]
  },
  {
   "cell_type": "code",
   "execution_count": 7,
   "metadata": {},
   "outputs": [],
   "source": [
    "# NOTE: in order for \"pygbif\" to run properly, change the following:\n",
    "\n",
    "# https://github.com/gbif/pygbif/issues/93\n",
    "# solution: edit pygbif/caching.py\n",
    "# change in line 2: requests_cache.core to requests_cache\n",
    "\n",
    "# also, you'll need to create an .env file!\n",
    "\n",
    "from pygbif import species\n",
    "from pygbif import occurrences as occ\n",
    "from dwca.read import DwCAReader\n",
    "import time\n",
    "import os"
   ]
  },
  {
   "cell_type": "code",
   "execution_count": 4,
   "metadata": {},
   "outputs": [],
   "source": [
    "SPECIES = 'Vanessa atalanta'\n",
    "YEAR_MIN = 2018\n",
    "YEAR_MAX = 2021"
   ]
  },
  {
   "cell_type": "code",
   "execution_count": 5,
   "metadata": {},
   "outputs": [
    {
     "name": "stdout",
     "output_type": "stream",
     "text": [
      "species name (to verify):\n",
      "\tVanessa atalanta (Linnaeus, 1758)\n"
     ]
    }
   ],
   "source": [
    "gbif_result = species.name_suggest(SPECIES)\n",
    "key = gbif_result[0]['key']\n",
    "print(f\"species name (to verify):\\n\\t{gbif_result[0]['scientificName']}\")"
   ]
  },
  {
   "cell_type": "code",
   "execution_count": 6,
   "metadata": {},
   "outputs": [
    {
     "name": "stderr",
     "output_type": "stream",
     "text": [
      "INFO:Your download key is 0357833-210914110416597\n"
     ]
    },
    {
     "data": {
      "text/plain": [
       "('0357833-210914110416597',\n",
       " {'creator': 'vegan_schnitzel',\n",
       "  'notification_address': ['robat.wright@gmail.com'],\n",
       "  'send_notification': 'true',\n",
       "  'created': 2022,\n",
       "  'predicate': {'type': 'and',\n",
       "   'predicates': [{'type': 'equals', 'key': 'TAXON_KEY', 'value': '1898286'},\n",
       "    {'type': 'equals', 'key': 'YEAR', 'value': '2018,2021'},\n",
       "    {'type': 'equals', 'key': 'HAS_COORDINATE', 'value': 'TRUE'},\n",
       "    {'type': 'equals', 'key': 'COUNTRY', 'value': 'DE'}]}})"
      ]
     },
     "execution_count": 6,
     "metadata": {},
     "output_type": "execute_result"
    }
   ],
   "source": [
    "# DOWNLOAD REQUEST\n",
    "\n",
    "# FYI: gbif uses 2-letter country code (as per ISO-3166-1)\n",
    "# https://www.iso.org/iso-3166-country-codes.html\n",
    "# as far as I'm concerned, multiple countries have to be split into several\n",
    "# downloads\n",
    "\n",
    "gbif_occ = occ.download([\n",
    "    f'taxonKey = {key}',\n",
    "    f'year = {YEAR_MIN},{YEAR_MAX}',\n",
    "    'hasCoordinate = TRUE',\n",
    "    'country = DE'\n",
    "])\n",
    "\n",
    "download_key = gbif_occ[0]\n",
    "gbif_occ"
   ]
  },
  {
   "cell_type": "code",
   "execution_count": 13,
   "metadata": {},
   "outputs": [
    {
     "name": "stderr",
     "output_type": "stream",
     "text": [
      "INFO:Download file size: 4510409 bytes\n",
      "INFO:On disk at gbif/0357833-210914110416597.zip\n"
     ]
    },
    {
     "name": "stdout",
     "output_type": "stream",
     "text": [
      "*** download successful! ***\n"
     ]
    }
   ],
   "source": [
    "# GET THE DOWNLOAD\n",
    "\n",
    "# create directory for data storage\n",
    "if not os.path.exists('gbif'):\n",
    "    os.mkdir('gbif')\n",
    "\n",
    "# wait <delay> seconds if download hasn't been prepared by gbif yet\n",
    "delay = 60\n",
    "while True:\n",
    "    try:\n",
    "        occ.download_get(key=download_key, path='gbif')\n",
    "        print('*** download successful! ***')\n",
    "        break\n",
    "    except Exception:\n",
    "        print(f'download not ready yet, trying again in {delay/60} min...\\n')\n",
    "        time.sleep(delay)"
   ]
  },
  {
   "cell_type": "code",
   "execution_count": 20,
   "metadata": {},
   "outputs": [
    {
     "name": "stdout",
     "output_type": "stream",
     "text": [
      "core type is: http://rs.tdwg.org/dwc/terms/Occurrence\n",
      "available extensions: ['Multimedia', 'Occurrence']\n"
     ]
    }
   ],
   "source": [
    "# ACCESS DATA\n",
    "\n",
    "with DwCAReader(f'gbif/{download_key}.zip') as dwca:\n",
    "\n",
    "    # check the core file of the archive (occurrence, taxon, ...)\n",
    "    print(f\"core type is: {dwca.descriptor.core.type}\")\n",
    "\n",
    "    # check the available extensions\n",
    "    print(f\"available extensions: {[ext.split('/')[-1] for ext in dwca.descriptor.extensions_type]}\")\n",
    "\n",
    "    core_file_name = dwca.descriptor.core.file_location\n",
    "    # load data into pandas frame, focussing on pre-selected columns\n",
    "    core_df = dwca.pd_read(\n",
    "        relative_path=core_file_name,\n",
    "        usecols=['species', 'speciesKey', 'eventDate', 'year', 'month', 'day',\n",
    "                 'countryCode','decimalLongitude', 'decimalLatitude'],\n",
    "        parse_dates=True,\n",
    "    )\n",
    "\n",
    "# alternatively, save as csv file to make later re-import easier\n",
    "core_df.to_csv(path_or_buf=f'gbif/{download_key}.csv', index=False)"
   ]
  },
  {
   "cell_type": "code",
   "execution_count": 21,
   "metadata": {},
   "outputs": [
    {
     "data": {
      "text/html": [
       "<div>\n",
       "<style scoped>\n",
       "    .dataframe tbody tr th:only-of-type {\n",
       "        vertical-align: middle;\n",
       "    }\n",
       "\n",
       "    .dataframe tbody tr th {\n",
       "        vertical-align: top;\n",
       "    }\n",
       "\n",
       "    .dataframe thead th {\n",
       "        text-align: right;\n",
       "    }\n",
       "</style>\n",
       "<table border=\"1\" class=\"dataframe\">\n",
       "  <thead>\n",
       "    <tr style=\"text-align: right;\">\n",
       "      <th></th>\n",
       "      <th>eventDate</th>\n",
       "      <th>year</th>\n",
       "      <th>month</th>\n",
       "      <th>day</th>\n",
       "      <th>countryCode</th>\n",
       "      <th>decimalLatitude</th>\n",
       "      <th>decimalLongitude</th>\n",
       "      <th>speciesKey</th>\n",
       "      <th>species</th>\n",
       "      <th>geodeticDatum</th>\n",
       "    </tr>\n",
       "  </thead>\n",
       "  <tbody>\n",
       "    <tr>\n",
       "      <th>0</th>\n",
       "      <td>2017-07-05T00:00:00</td>\n",
       "      <td>2017</td>\n",
       "      <td>7.0</td>\n",
       "      <td>5.0</td>\n",
       "      <td>GB</td>\n",
       "      <td>52.820494</td>\n",
       "      <td>-1.304008</td>\n",
       "      <td>1898286</td>\n",
       "      <td>Vanessa atalanta</td>\n",
       "      <td>WGS84</td>\n",
       "    </tr>\n",
       "    <tr>\n",
       "      <th>1</th>\n",
       "      <td>2017-07-29T00:00:00</td>\n",
       "      <td>2017</td>\n",
       "      <td>7.0</td>\n",
       "      <td>29.0</td>\n",
       "      <td>GB</td>\n",
       "      <td>52.728251</td>\n",
       "      <td>-0.979701</td>\n",
       "      <td>1898286</td>\n",
       "      <td>Vanessa atalanta</td>\n",
       "      <td>WGS84</td>\n",
       "    </tr>\n",
       "    <tr>\n",
       "      <th>2</th>\n",
       "      <td>2018-09-23T00:00:00</td>\n",
       "      <td>2018</td>\n",
       "      <td>9.0</td>\n",
       "      <td>23.0</td>\n",
       "      <td>GB</td>\n",
       "      <td>52.749491</td>\n",
       "      <td>-1.482920</td>\n",
       "      <td>1898286</td>\n",
       "      <td>Vanessa atalanta</td>\n",
       "      <td>WGS84</td>\n",
       "    </tr>\n",
       "    <tr>\n",
       "      <th>3</th>\n",
       "      <td>2015-08-02T00:00:00</td>\n",
       "      <td>2015</td>\n",
       "      <td>8.0</td>\n",
       "      <td>2.0</td>\n",
       "      <td>GB</td>\n",
       "      <td>52.634093</td>\n",
       "      <td>-0.568145</td>\n",
       "      <td>1898286</td>\n",
       "      <td>Vanessa atalanta</td>\n",
       "      <td>WGS84</td>\n",
       "    </tr>\n",
       "    <tr>\n",
       "      <th>4</th>\n",
       "      <td>2017-06-03T00:00:00</td>\n",
       "      <td>2017</td>\n",
       "      <td>6.0</td>\n",
       "      <td>3.0</td>\n",
       "      <td>GB</td>\n",
       "      <td>52.870687</td>\n",
       "      <td>-0.827795</td>\n",
       "      <td>1898286</td>\n",
       "      <td>Vanessa atalanta</td>\n",
       "      <td>WGS84</td>\n",
       "    </tr>\n",
       "    <tr>\n",
       "      <th>...</th>\n",
       "      <td>...</td>\n",
       "      <td>...</td>\n",
       "      <td>...</td>\n",
       "      <td>...</td>\n",
       "      <td>...</td>\n",
       "      <td>...</td>\n",
       "      <td>...</td>\n",
       "      <td>...</td>\n",
       "      <td>...</td>\n",
       "      <td>...</td>\n",
       "    </tr>\n",
       "    <tr>\n",
       "      <th>1133097</th>\n",
       "      <td>2015-07-22T00:00:00</td>\n",
       "      <td>2015</td>\n",
       "      <td>7.0</td>\n",
       "      <td>22.0</td>\n",
       "      <td>FR</td>\n",
       "      <td>48.585530</td>\n",
       "      <td>2.017580</td>\n",
       "      <td>1898286</td>\n",
       "      <td>Vanessa atalanta</td>\n",
       "      <td>WGS84</td>\n",
       "    </tr>\n",
       "    <tr>\n",
       "      <th>1133098</th>\n",
       "      <td>2008-07-23T00:00:00</td>\n",
       "      <td>2008</td>\n",
       "      <td>7.0</td>\n",
       "      <td>23.0</td>\n",
       "      <td>FR</td>\n",
       "      <td>48.617820</td>\n",
       "      <td>2.066200</td>\n",
       "      <td>1898286</td>\n",
       "      <td>Vanessa atalanta</td>\n",
       "      <td>WGS84</td>\n",
       "    </tr>\n",
       "    <tr>\n",
       "      <th>1133099</th>\n",
       "      <td>2007-03-28T00:00:00</td>\n",
       "      <td>2007</td>\n",
       "      <td>3.0</td>\n",
       "      <td>28.0</td>\n",
       "      <td>FR</td>\n",
       "      <td>48.729580</td>\n",
       "      <td>2.100970</td>\n",
       "      <td>1898286</td>\n",
       "      <td>Vanessa atalanta</td>\n",
       "      <td>WGS84</td>\n",
       "    </tr>\n",
       "    <tr>\n",
       "      <th>1133100</th>\n",
       "      <td>2004-04-15T00:00:00</td>\n",
       "      <td>2004</td>\n",
       "      <td>4.0</td>\n",
       "      <td>15.0</td>\n",
       "      <td>FR</td>\n",
       "      <td>48.705250</td>\n",
       "      <td>2.084150</td>\n",
       "      <td>1898286</td>\n",
       "      <td>Vanessa atalanta</td>\n",
       "      <td>WGS84</td>\n",
       "    </tr>\n",
       "    <tr>\n",
       "      <th>1133101</th>\n",
       "      <td>2009-03-17T00:00:00</td>\n",
       "      <td>2009</td>\n",
       "      <td>3.0</td>\n",
       "      <td>17.0</td>\n",
       "      <td>FR</td>\n",
       "      <td>48.972200</td>\n",
       "      <td>2.147500</td>\n",
       "      <td>1898286</td>\n",
       "      <td>Vanessa atalanta</td>\n",
       "      <td>WGS84</td>\n",
       "    </tr>\n",
       "  </tbody>\n",
       "</table>\n",
       "<p>1133102 rows × 10 columns</p>\n",
       "</div>"
      ],
      "text/plain": [
       "                   eventDate  year  month   day countryCode  decimalLatitude  \\\n",
       "0        2017-07-05T00:00:00  2017    7.0   5.0          GB        52.820494   \n",
       "1        2017-07-29T00:00:00  2017    7.0  29.0          GB        52.728251   \n",
       "2        2018-09-23T00:00:00  2018    9.0  23.0          GB        52.749491   \n",
       "3        2015-08-02T00:00:00  2015    8.0   2.0          GB        52.634093   \n",
       "4        2017-06-03T00:00:00  2017    6.0   3.0          GB        52.870687   \n",
       "...                      ...   ...    ...   ...         ...              ...   \n",
       "1133097  2015-07-22T00:00:00  2015    7.0  22.0          FR        48.585530   \n",
       "1133098  2008-07-23T00:00:00  2008    7.0  23.0          FR        48.617820   \n",
       "1133099  2007-03-28T00:00:00  2007    3.0  28.0          FR        48.729580   \n",
       "1133100  2004-04-15T00:00:00  2004    4.0  15.0          FR        48.705250   \n",
       "1133101  2009-03-17T00:00:00  2009    3.0  17.0          FR        48.972200   \n",
       "\n",
       "         decimalLongitude  speciesKey           species geodeticDatum  \n",
       "0               -1.304008     1898286  Vanessa atalanta         WGS84  \n",
       "1               -0.979701     1898286  Vanessa atalanta         WGS84  \n",
       "2               -1.482920     1898286  Vanessa atalanta         WGS84  \n",
       "3               -0.568145     1898286  Vanessa atalanta         WGS84  \n",
       "4               -0.827795     1898286  Vanessa atalanta         WGS84  \n",
       "...                   ...         ...               ...           ...  \n",
       "1133097          2.017580     1898286  Vanessa atalanta         WGS84  \n",
       "1133098          2.066200     1898286  Vanessa atalanta         WGS84  \n",
       "1133099          2.100970     1898286  Vanessa atalanta         WGS84  \n",
       "1133100          2.084150     1898286  Vanessa atalanta         WGS84  \n",
       "1133101          2.147500     1898286  Vanessa atalanta         WGS84  \n",
       "\n",
       "[1133102 rows x 10 columns]"
      ]
     },
     "execution_count": 21,
     "metadata": {},
     "output_type": "execute_result"
    }
   ],
   "source": [
    "core_df"
   ]
  }
 ],
 "metadata": {
  "interpreter": {
   "hash": "1d8f3f4711643c241868c141c3819f4661ccee2fc8b16205436eb93b9fb46fc7"
  },
  "kernelspec": {
   "display_name": "Python 3.9.12 (conda)",
   "language": "python",
   "name": "python3"
  },
  "language_info": {
   "codemirror_mode": {
    "name": "ipython",
    "version": 3
   },
   "file_extension": ".py",
   "mimetype": "text/x-python",
   "name": "python",
   "nbconvert_exporter": "python",
   "pygments_lexer": "ipython3",
   "version": "3.8.13"
  },
  "orig_nbformat": 4
 },
 "nbformat": 4,
 "nbformat_minor": 2
}
