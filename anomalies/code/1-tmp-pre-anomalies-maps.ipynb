{
 "cells": [
  {
   "cell_type": "code",
   "execution_count": 3,
   "metadata": {},
   "outputs": [],
   "source": [
    "import matplotlib.pyplot as plt\n",
    "from netCDF4 import Dataset\n",
    "\n",
    "# default plotting settings\n",
    "plt.rc('figure', figsize=(11.69,8.27))  # din a4 size in inches"
   ]
  },
  {
   "cell_type": "markdown",
   "metadata": {},
   "source": [
    "# Anomalies Maps\n",
    "\n",
    "This notebook visualises **temperature** and **precipitation** anomalies for Europe and Northern Africa. Climate data is imported from [CRU TS](https://doi.org/10.1038/s41597-020-0453-3)."
   ]
  },
  {
   "cell_type": "code",
   "execution_count": 4,
   "metadata": {},
   "outputs": [
    {
     "name": "stdout",
     "output_type": "stream",
     "text": [
      "<class 'netCDF4._netCDF4.Dataset'>\n",
      "root group (NETCDF3_CLASSIC data model, file format NETCDF3):\n",
      "    Conventions: CF-1.4\n",
      "    title: CRU TS4.05 Maximum Temperature\n",
      "    institution: Data held at British Atmospheric Data Centre, RAL, UK.\n",
      "    source: Run ID = 2103051243. Data generated from:TMX derived from gridded TMP & DTR absolutes, DTR in turn derived from tmn.2103041709.dtb, tmx.2103041709.dtb\n",
      "    history: Fri  5 Mar 17:13:42 GMT 2021 : User harry : Program makegridsauto.for called by update.for\n",
      "    references: Information on the data is available at http://badc.nerc.ac.uk/data/cru/\n",
      "    comment: Access to these data is available to any registered CEDA user.\n",
      "    contact: support@ceda.ac.uk\n",
      "    dimensions(sizes): lon(720), lat(360), time(1440)\n",
      "    variables(dimensions): float32 lon(lon), float32 lat(lat), float32 time(time), float32 tmx(time, lat, lon), int32 stn(time, lat, lon)\n",
      "    groups: \n"
     ]
    }
   ],
   "source": [
    "# load data from netCDF file\n",
    "cru_file = Dataset('../../data/CRU-TS/cru_ts4.05.1901.2020.tmx.dat.nc')\n",
    "print(cru_file)"
   ]
  },
  {
   "cell_type": "code",
   "execution_count": 12,
   "metadata": {},
   "outputs": [
    {
     "name": "stdout",
     "output_type": "stream",
     "text": [
      "<class 'netCDF4._netCDF4.Variable'>\n",
      "float32 time(time)\n",
      "    long_name: time\n",
      "    units: days since 1900-1-1\n",
      "    calendar: gregorian\n",
      "unlimited dimensions: time\n",
      "current shape = (1440,)\n",
      "filling on, default _FillValue of 9.969209968386869e+36 used\n",
      "time:\n",
      "[  380.   410.   439. ... 44118. 44149. 44179.]\n"
     ]
    }
   ],
   "source": [
    "# variable information\n",
    "#cru_vars = [var for var in cru_file.variables]\n",
    "print(cru_file.variables['time'])\n",
    "\n",
    "# get the data\n",
    "cru_time = cru_file.variables['time'][:]\n",
    "\n",
    "print('time:')\n",
    "print(cru_time)"
   ]
  },
  {
   "cell_type": "code",
   "execution_count": 9,
   "metadata": {},
   "outputs": [
    {
     "name": "stdout",
     "output_type": "stream",
     "text": [
      "time:\n",
      "[  380.   410.   439. ... 44118. 44149. 44179.]\n"
     ]
    }
   ],
   "source": [
    "# get the data\n",
    "cru_time = cru_file.variables['time'][:]\n",
    "\n",
    "print('time:')\n",
    "print(cru_time)"
   ]
  },
  {
   "cell_type": "markdown",
   "metadata": {},
   "source": [
    "CRU TS just covers years up until 2020, however, as I need data until August 2021, let's search for another dataset!"
   ]
  },
  {
   "cell_type": "markdown",
   "metadata": {},
   "source": []
  }
 ],
 "metadata": {
  "interpreter": {
   "hash": "425338c198e46b7144eb746e2c97c95fe720966119157f5fd514677b35f94246"
  },
  "kernelspec": {
   "display_name": "Python 3.9.7 (conda)",
   "language": "python",
   "name": "python3"
  },
  "language_info": {
   "codemirror_mode": {
    "name": "ipython",
    "version": 3
   },
   "file_extension": ".py",
   "mimetype": "text/x-python",
   "name": "python",
   "nbconvert_exporter": "python",
   "pygments_lexer": "ipython3",
   "version": "3.9.7"
  },
  "orig_nbformat": 4
 },
 "nbformat": 4,
 "nbformat_minor": 2
}
