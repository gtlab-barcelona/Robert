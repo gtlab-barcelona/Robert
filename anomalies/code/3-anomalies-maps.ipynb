{
 "cells": [
  {
   "cell_type": "markdown",
   "metadata": {},
   "source": [
    "# Anomaly maps\n",
    "\n",
    "In this notebook, I create anomaly maps of multiple climatic variables to visually understand the population outbreaks in the Fringilla insect data."
   ]
  },
  {
   "cell_type": "code",
   "execution_count": 1,
   "metadata": {},
   "outputs": [],
   "source": [
    "import matplotlib.pyplot as plt\n",
    "import seaborn as sns\n",
    "import numpy as np\n",
    "import cartopy.crs as ccrs\n",
    "import cartopy.feature as cfeature\n",
    "from netCDF4 import Dataset\n",
    "from datetime import datetime, timedelta"
   ]
  },
  {
   "cell_type": "markdown",
   "metadata": {},
   "source": [
    "### Importing CRU TS data\n",
    "\n",
    "The Climate Research Unit gridded Time Series (CRU TS) is a widely used climate dataset with monthly resolution on a 0.5° latitude by 0.5° longitude grid over all land domains of the world except Antarctica. The dataset is introduced in this [paper](https://doi.org/10.1038/s41597-020-0453-3)."
   ]
  },
  {
   "cell_type": "code",
   "execution_count": 2,
   "metadata": {},
   "outputs": [
    {
     "name": "stdout",
     "output_type": "stream",
     "text": [
      "<class 'netCDF4._netCDF4.Dataset'>\n",
      "root group (NETCDF3_CLASSIC data model, file format NETCDF3):\n",
      "    Conventions: CF-1.4\n",
      "    title: CRU TS4.05 Mean Temperature\n",
      "    institution: Data held at British Atmospheric Data Centre, RAL, UK.\n",
      "    source: Run ID = 2103051243. Data generated from:tmp.2103041709.dtb\n",
      "    history: Fri  5 Mar 13:25:53 GMT 2021 : User harry : Program makegridsauto.for called by update.for\n",
      "    references: Information on the data is available at http://badc.nerc.ac.uk/data/cru/\n",
      "    comment: Access to these data is available to any registered CEDA user.\n",
      "    contact: support@ceda.ac.uk\n",
      "    dimensions(sizes): lon(720), lat(360), time(1440)\n",
      "    variables(dimensions): float32 lon(lon), float32 lat(lat), float32 time(time), float32 tmp(time, lat, lon), int32 stn(time, lat, lon)\n",
      "    groups: \n"
     ]
    }
   ],
   "source": [
    "# load meta data from netCDF file\n",
    "# temperature:\n",
    "cru_ts_tmp = Dataset('../../data/CRU-TS/cru_ts4.05.1901.2020.tmp.dat.nc')\n",
    "print(cru_ts_tmp)"
   ]
  },
  {
   "cell_type": "code",
   "execution_count": 3,
   "metadata": {},
   "outputs": [
    {
     "name": "stdout",
     "output_type": "stream",
     "text": [
      "<class 'netCDF4._netCDF4.Dataset'>\n",
      "root group (NETCDF3_CLASSIC data model, file format NETCDF3):\n",
      "    Conventions: CF-1.4\n",
      "    title: CRU TS4.05 Precipitation\n",
      "    institution: Data held at British Atmospheric Data Centre, RAL, UK.\n",
      "    source: Run ID = 2103051243. Data generated from:pre.2103041709.dtb\n",
      "    history: Fri  5 Mar 14:41:58 GMT 2021 : User harry : Program makegridsauto.for called by update.for\n",
      "    references: Information on the data is available at http://badc.nerc.ac.uk/data/cru/\n",
      "    comment: Access to these data is available to any registered CEDA user.\n",
      "    contact: support@ceda.ac.uk\n",
      "    dimensions(sizes): lon(720), lat(360), time(1440)\n",
      "    variables(dimensions): float32 lon(lon), float32 lat(lat), float32 time(time), float32 pre(time, lat, lon), int32 stn(time, lat, lon)\n",
      "    groups: \n"
     ]
    }
   ],
   "source": [
    "# precipitation:\n",
    "cru_ts_pre = Dataset('../../data/CRU-TS/cru_ts4.05.1901.2020.pre.dat.nc')\n",
    "print(cru_ts_pre)"
   ]
  },
  {
   "cell_type": "code",
   "execution_count": 4,
   "metadata": {},
   "outputs": [],
   "source": [
    "# import time var & convert into datetime object\n",
    "time = cru_ts_tmp.variables['time'][:]\n",
    "\n",
    "dtime = []\n",
    "start = datetime(1900, 1, 1)\n",
    "for t in time:\n",
    "    delta = timedelta(days=int(t))\n",
    "    dtime.append(start + delta)"
   ]
  },
  {
   "cell_type": "code",
   "execution_count": 5,
   "metadata": {},
   "outputs": [
    {
     "name": "stdout",
     "output_type": "stream",
     "text": [
      "(1440, 36, 72)\n",
      "(1440, 36, 72)\n",
      "(72,)\n",
      "(36,)\n"
     ]
    }
   ],
   "source": [
    "# get the data\n",
    "# NOTE: taking every s-th coord due to computing power limitations\n",
    "s = 10\n",
    "pre = cru_ts_pre.variables['pre'][:,::s,::s]\n",
    "tmp = cru_ts_tmp.variables['tmp'][:,::s,::s]\n",
    "lon = cru_ts_tmp.variables['lon'][::s]\n",
    "lat = cru_ts_tmp.variables['lat'][::s]\n",
    "print(tmp.shape)\n",
    "print(pre.shape)\n",
    "print(lon.shape)\n",
    "print(lat.shape) "
   ]
  },
  {
   "cell_type": "markdown",
   "metadata": {},
   "source": [
    "### Computing anomalies"
   ]
  },
  {
   "cell_type": "code",
   "execution_count": 6,
   "metadata": {},
   "outputs": [
    {
     "name": "stdout",
     "output_type": "stream",
     "text": [
      "1080 1440\n"
     ]
    }
   ],
   "source": [
    "# define reference period and get respective indices in time list\n",
    "ref_start = datetime(1991, 1, 16)\n",
    "ref_end   = datetime(2020, 12, 16)\n",
    "\n",
    "iref_start = dtime.index(ref_start)\n",
    "iref_end = dtime.index(ref_end) + 1 # indexing in python does not include stop value \n",
    "\n",
    "print(iref_start, iref_end)"
   ]
  },
  {
   "cell_type": "code",
   "execution_count": 7,
   "metadata": {},
   "outputs": [],
   "source": [
    "# compute monthly mean and sample standard deviation within reference period\n",
    "def monthly_stats(var):\n",
    "    '''\n",
    "    var: climatic variable  \n",
    "    '''\n",
    "    month_mean = []\n",
    "    month_std = []\n",
    "    # compute stats individually for every month\n",
    "    for imonth in range(12):\n",
    "        month_mean.append(np.mean(var[iref_start+imonth:iref_end:12], axis=0))\n",
    "        month_std.append(np.std(var[iref_start+imonth:iref_end:12], axis=0))\n",
    "    return month_mean, month_std\n",
    "\n",
    "pre_mean, pre_std = monthly_stats(pre)\n",
    "tmp_mean, tmp_std = monthly_stats(tmp)"
   ]
  },
  {
   "cell_type": "code",
   "execution_count": 8,
   "metadata": {},
   "outputs": [
    {
     "name": "stdout",
     "output_type": "stream",
     "text": [
      "1164 1440\n"
     ]
    }
   ],
   "source": [
    "# select time frame of interest (i. e., the anomaly maps are created for these years)\n",
    "# NOTE: for this to work flawless, do not change month and day values!\n",
    "first_year = 1998\n",
    "final_year = 2020\n",
    "\n",
    "anom_start = datetime(first_year, 1, 16)\n",
    "anom_end = datetime(final_year, 12, 16)\n",
    "\n",
    "ianom_start = dtime.index(anom_start)\n",
    "ianom_end = dtime.index(anom_end) + 1 # indexing in python does not include stop value \n",
    "\n",
    "print(ianom_start, ianom_end)"
   ]
  },
  {
   "cell_type": "code",
   "execution_count": 9,
   "metadata": {},
   "outputs": [],
   "source": [
    "# compute z-score (observation - mean / sample std) for time frame of interest\n",
    "def zscore(var, mean, std):\n",
    "    zscr = []\n",
    "    # get int of first month in time frame of interest\n",
    "    imonth = dtime[ianom_start].month - 1\n",
    "    for obsv in var[ianom_start:ianom_end]:\n",
    "        # to cycle through the months, compute remainder of division by 12\n",
    "        imonth_loop = (imonth % 12)\n",
    "        # compute z-score\n",
    "        zscr.append((obsv - mean[imonth_loop]) / std[imonth_loop])\n",
    "        imonth += 1\n",
    "    return zscr\n",
    "\n",
    "pre_zscr = zscore(pre, pre_mean, pre_std)\n",
    "tmp_zscr = zscore(tmp, tmp_mean, tmp_std)"
   ]
  },
  {
   "cell_type": "markdown",
   "metadata": {},
   "source": [
    "### Plotting"
   ]
  },
  {
   "cell_type": "code",
   "execution_count": 14,
   "metadata": {},
   "outputs": [
    {
     "name": "stdout",
     "output_type": "stream",
     "text": [
      "temperature: plotting #1 of 1...\n",
      "precipitation: plotting #1 of 1...\n"
     ]
    }
   ],
   "source": [
    "# The data is defined in lat/lon coordinate system, so PlateCarree() is the\n",
    "# appropriate transformation choice.\n",
    "# (https://scitools.org.uk/cartopy/docs/latest/tutorials/understanding_transform.html)\n",
    "data_crs = ccrs.PlateCarree()\n",
    "\n",
    "def plot_anom_maps(var, kind, cmap):\n",
    "    number_of_plots = 1 #(final_year + 1) - first_year\n",
    "    idummy = 0\n",
    "    # collection of subplots for every year of time frame of interest\n",
    "    for iplot in range(number_of_plots):\n",
    "        current_year = dtime[ianom_start+idummy].strftime('%Y')\n",
    "        print(f\"{kind}: plotting #{iplot+1} of {number_of_plots}...\")\n",
    "        # as there are lots of figures and we save them directly anyways, let's\n",
    "        # clear them from memory:\n",
    "        # https://stackoverflow.com/questions/28757348/how-to-clear-memory-completely-of-all-matplotlib-plots#55834853\n",
    "        fig, axs = plt.subplots(\n",
    "            nrows=3, ncols=4, figsize=(16,9),\n",
    "            subplot_kw={'projection':ccrs.Miller()}, # determine map projection\n",
    "            num=1, clear=True # use same figure, but cleared (prevents memory overflow)\n",
    "        )\n",
    "        fig.suptitle(f\"{current_year}: {kind} anomaly\",\n",
    "                     fontsize=20)\n",
    "        # plotting individual month\n",
    "        for ax in axs.flat:\n",
    "            ax.set_extent([-25, 70, 5, 70])\n",
    "            ax.set_title(dtime[ianom_start+idummy].strftime('%b'))\n",
    "            pcm = ax.pcolormesh(\n",
    "                lon, lat, var[idummy],\n",
    "                transform=data_crs, cmap=cmap,\n",
    "                rasterized=True, shading='nearest', # these settings are imprtant\n",
    "                                                    # for properly rendering pdf\n",
    "                vmin=-5, vmax=5\n",
    "            )\n",
    "            ax.add_feature(cfeature.COASTLINE, linewidth=0.5)\n",
    "            idummy += 1\n",
    "        cbar = plt.colorbar(pcm, ax=axs[:,:], shrink=0.9)\n",
    "        cbar.set_label('z-score [std]', fontsize=15)\n",
    "        plt.figtext(x=0.76, y=0.12, \n",
    "                    s=f'reference period:\\n{ref_start.year}-{ref_end.year}',\n",
    "                    fontdict={'alpha': 0.7})\n",
    "        fig.savefig(\n",
    "            f'../figs/kaliningrad/maps/{kind}-{current_year}.pdf', bbox_inches='tight'\n",
    "        )\n",
    "        # due to high memory usage nonetheless, added the following, just in case:\n",
    "        fig.clear()\n",
    "        plt.close(fig)\n",
    "\n",
    "# plotting...\n",
    "plot_anom_maps(tmp_zscr, \"temperature\", \"coolwarm\")\n",
    "plot_anom_maps(pre_zscr, \"precipitation\", \"PuOr\")"
   ]
  }
 ],
 "metadata": {
  "interpreter": {
   "hash": "425338c198e46b7144eb746e2c97c95fe720966119157f5fd514677b35f94246"
  },
  "kernelspec": {
   "display_name": "Python 3.9.7 (conda)",
   "language": "python",
   "name": "python3"
  },
  "language_info": {
   "codemirror_mode": {
    "name": "ipython",
    "version": 3
   },
   "file_extension": ".py",
   "mimetype": "text/x-python",
   "name": "python",
   "nbconvert_exporter": "python",
   "pygments_lexer": "ipython3",
   "version": "3.9.7"
  },
  "orig_nbformat": 4
 },
 "nbformat": 4,
 "nbformat_minor": 2
}
