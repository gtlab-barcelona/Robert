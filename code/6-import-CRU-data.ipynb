{
 "cells": [
  {
   "cell_type": "markdown",
   "metadata": {},
   "source": [
    "# Importing CRU TS data\n",
    "\n",
    "The Climate Research Unit gridded Time Series (CRU TS) is a widely used climate dataset on a 0.5° latitude by 0.5° longitude grid over all land domains of the world except Antarctica. The dataset is introduced in this [paper](https://doi.org/10.1038/s41597-020-0453-3)."
   ]
  },
  {
   "cell_type": "code",
   "execution_count": 23,
   "metadata": {},
   "outputs": [],
   "source": [
    "from netCDF4 import Dataset\n",
    "import numpy as np\n",
    "from datetime import datetime, timedelta\n",
    "import seaborn as sns\n",
    "sns.set_theme(\n",
    "    style=\"darkgrid\",\n",
    "    color_codes=True,\n",
    "    palette='Dark2',\n",
    ")"
   ]
  },
  {
   "cell_type": "code",
   "execution_count": 24,
   "metadata": {},
   "outputs": [
    {
     "name": "stdout",
     "output_type": "stream",
     "text": [
      "<class 'netCDF4._netCDF4.Dataset'>\n",
      "root group (NETCDF3_CLASSIC data model, file format NETCDF3):\n",
      "    Conventions: CF-1.4\n",
      "    title: CRU TS4.05 Mean Temperature\n",
      "    institution: Data held at British Atmospheric Data Centre, RAL, UK.\n",
      "    source: Run ID = 2103051243. Data generated from:tmp.2103041709.dtb\n",
      "    history: Fri  5 Mar 13:25:53 GMT 2021 : User harry : Program makegridsauto.for called by update.for\n",
      "    references: Information on the data is available at http://badc.nerc.ac.uk/data/cru/\n",
      "    comment: Access to these data is available to any registered CEDA user.\n",
      "    contact: support@ceda.ac.uk\n",
      "    dimensions(sizes): lon(720), lat(360), time(1440)\n",
      "    variables(dimensions): float32 lon(lon), float32 lat(lat), float32 time(time), float32 tmp(time, lat, lon), int32 stn(time, lat, lon)\n",
      "    groups: \n"
     ]
    }
   ],
   "source": [
    "cru_file = Dataset('../data/CRU-TS/cru_ts4.05.1901.2020.tmp.dat.nc')\n",
    "print(cru_file)"
   ]
  },
  {
   "cell_type": "markdown",
   "metadata": {},
   "source": [
    "### Explore netCDF file"
   ]
  },
  {
   "cell_type": "code",
   "execution_count": 25,
   "metadata": {},
   "outputs": [
    {
     "name": "stdout",
     "output_type": "stream",
     "text": [
      "variable: <class 'netCDF4._netCDF4.Variable'>\n",
      "float32 lon(lon)\n",
      "    long_name: longitude\n",
      "    units: degrees_east\n",
      "unlimited dimensions: \n",
      "current shape = (720,)\n",
      "filling on, default _FillValue of 9.969209968386869e+36 used \n",
      "\n",
      "variable: <class 'netCDF4._netCDF4.Variable'>\n",
      "float32 lat(lat)\n",
      "    long_name: latitude\n",
      "    units: degrees_north\n",
      "unlimited dimensions: \n",
      "current shape = (360,)\n",
      "filling on, default _FillValue of 9.969209968386869e+36 used \n",
      "\n",
      "variable: <class 'netCDF4._netCDF4.Variable'>\n",
      "float32 time(time)\n",
      "    long_name: time\n",
      "    units: days since 1900-1-1\n",
      "    calendar: gregorian\n",
      "unlimited dimensions: time\n",
      "current shape = (1440,)\n",
      "filling on, default _FillValue of 9.969209968386869e+36 used \n",
      "\n",
      "variable: <class 'netCDF4._netCDF4.Variable'>\n",
      "float32 tmp(time, lat, lon)\n",
      "    long_name: near-surface temperature\n",
      "    units: degrees Celsius\n",
      "    correlation_decay_distance: 1200.0\n",
      "    _FillValue: 9.96921e+36\n",
      "    missing_value: 9.96921e+36\n",
      "unlimited dimensions: time\n",
      "current shape = (1440, 360, 720)\n",
      "filling on \n",
      "\n",
      "variable: <class 'netCDF4._netCDF4.Variable'>\n",
      "int32 stn(time, lat, lon)\n",
      "    description: number of stations contributing to each datum\n",
      "    _FillValue: -999\n",
      "    missing_value: -999\n",
      "unlimited dimensions: time\n",
      "current shape = (1440, 360, 720)\n",
      "filling on \n",
      "\n"
     ]
    }
   ],
   "source": [
    "# variable information\n",
    "cru_vars = [var for var in cru_file.variables]\n",
    "for var in cru_vars:\n",
    "    print('variable:', cru_file.variables[var],'\\n')"
   ]
  },
  {
   "cell_type": "code",
   "execution_count": 26,
   "metadata": {},
   "outputs": [
    {
     "name": "stdout",
     "output_type": "stream",
     "text": [
      "time:\n",
      "[  380.   410.   439. ... 44118. 44149. 44179.]\n",
      "lon:\n",
      "[-179.75 -179.25 -178.75 -178.25 -177.75 -177.25 -176.75 -176.25 -175.75\n",
      " -175.25]\n",
      "lat:\n",
      "[-89.75 -89.25 -88.75 -88.25 -87.75 -87.25 -86.75 -86.25 -85.75 -85.25]\n"
     ]
    }
   ],
   "source": [
    "# get the data (except tmp, too much data for now)\n",
    "cru_lon = cru_file.variables['lon'][:]\n",
    "cru_lat = cru_file.variables['lat'][:]\n",
    "cru_time = cru_file.variables['time'][:]\n",
    "\n",
    "print('time:')\n",
    "print(cru_time)\n",
    "print('lon:')\n",
    "print(cru_lon[:10])\n",
    "print('lat:')\n",
    "print(cru_lat[:10])"
   ]
  },
  {
   "cell_type": "markdown",
   "metadata": {},
   "source": [
    "The material was collected at the Biological Station Fringilla, a field station of the Zoological Institute of the Russian Academy of Sciences, located at 55°05'N, 20°44'E. This is equal to 55.08°N, 20.73°E. The closest grid point is therefore at **55.25°N, 20.75°E**.\n",
    "\n",
    "*(Remember: 1 deg ° = 60 min)*"
   ]
  },
  {
   "cell_type": "code",
   "execution_count": 27,
   "metadata": {},
   "outputs": [
    {
     "name": "stdout",
     "output_type": "stream",
     "text": [
      "index: 402\n",
      "value: 21.25\n",
      "index: 290\n",
      "value: 55.25\n"
     ]
    }
   ],
   "source": [
    "# get the index of the grid point at Fringilla\n",
    "def get_index(cru_var, grid_point):\n",
    "    i = 0\n",
    "    for value in cru_var:\n",
    "        if value == grid_point:\n",
    "            print('index:',i)\n",
    "            print('value:',cru_var[i])\n",
    "            return i\n",
    "        else:\n",
    "            i += 1\n",
    "\n",
    "ilon = get_index(cru_lon, 21.25)\n",
    "ilat = get_index(cru_lat, 55.25)"
   ]
  },
  {
   "cell_type": "code",
   "execution_count": 28,
   "metadata": {},
   "outputs": [
    {
     "name": "stdout",
     "output_type": "stream",
     "text": [
      "tmp:\n",
      "[14.3        9.1        5.         2.3       -0.8       -4.2000003\n",
      " -0.8       10.1       16.2       17.4       20.300001  20.1\n",
      " 15.900001   9.900001   4.5        0.6       -2.5        1.8000001\n",
      "  3.9        8.6      ]\n"
     ]
    }
   ],
   "source": [
    "# get tmp data at single grid point\n",
    "cru_tmp = cru_file.variables['tmp'][:,ilat,ilon]\n",
    "print('tmp:')\n",
    "print(cru_tmp[1400:1420])\n"
   ]
  },
  {
   "cell_type": "code",
   "execution_count": 29,
   "metadata": {},
   "outputs": [
    {
     "data": {
      "text/plain": [
       "(1440,)"
      ]
     },
     "execution_count": 29,
     "metadata": {},
     "output_type": "execute_result"
    }
   ],
   "source": [
    "np.shape(cru_tmp)"
   ]
  },
  {
   "cell_type": "markdown",
   "metadata": {},
   "source": [
    "time variable is stored as days since 1900-1-1, let's convert it to an actual date,"
   ]
  },
  {
   "cell_type": "code",
   "execution_count": 30,
   "metadata": {},
   "outputs": [],
   "source": [
    "cru_date = []\n",
    "start = datetime(1900,1,1)\n",
    "for i, time in enumerate(cru_time):\n",
    "    delta = timedelta(int(cru_time[i]))\n",
    "    cru_date.append(start + delta)"
   ]
  },
  {
   "cell_type": "markdown",
   "metadata": {},
   "source": [
    "and plot the temperature in April of 1998-2020."
   ]
  },
  {
   "cell_type": "code",
   "execution_count": 31,
   "metadata": {},
   "outputs": [
    {
     "data": {
      "text/plain": [
       "<AxesSubplot:>"
      ]
     },
     "execution_count": 31,
     "metadata": {},
     "output_type": "execute_result"
    },
    {
     "data": {
      "image/png": "[encoded data removed]",
      "text/plain": [
       "<Figure size 432x288 with 1 Axes>"
      ]
     },
     "metadata": {},
     "output_type": "display_data"
    }
   ],
   "source": [
    "yfirst = 1998\n",
    "ylast = 2020\n",
    "yrs = np.arange(1998, 2020+1)\n",
    "\n",
    "tmp = np.zeros(len(yrs))\n",
    "j = 0\n",
    "for i, ttmp in enumerate(cru_tmp):\n",
    "    # \"cru_date\" and \"cru_tmp\" have same shape of (1440,)\n",
    "    if cru_date[i].year >= yfirst and cru_date[i].month == 4:\n",
    "        tmp[j] = cru_tmp[i]\n",
    "        j += 1\n",
    "\n",
    "# plotting\n",
    "sns.scatterplot(x=yrs, y=tmp)"
   ]
  },
  {
   "cell_type": "code",
   "execution_count": 32,
   "metadata": {},
   "outputs": [
    {
     "name": "stdout",
     "output_type": "stream",
     "text": [
      "Stored 'cru_tmp_aprl' (ndarray)\n"
     ]
    }
   ],
   "source": [
    "# save tmp from cru ts dataset\n",
    "# https://ipython.org/ipython-doc/rel-0.12/config/extensions/storemagic.html\n",
    "cru_tmp_aprl = tmp\n",
    "%store cru_tmp_aprl"
   ]
  }
 ],
 "metadata": {
  "interpreter": {
   "hash": "425338c198e46b7144eb746e2c97c95fe720966119157f5fd514677b35f94246"
  },
  "kernelspec": {
   "display_name": "Python 3.9.7 64-bit (conda)",
   "language": "python",
   "name": "python3"
  },
  "language_info": {
   "codemirror_mode": {
    "name": "ipython",
    "version": 3
   },
   "file_extension": ".py",
   "mimetype": "text/x-python",
   "name": "python",
   "nbconvert_exporter": "python",
   "pygments_lexer": "ipython3",
   "version": "3.9.7"
  },
  "orig_nbformat": 4
 },
 "nbformat": 4,
 "nbformat_minor": 2
}
