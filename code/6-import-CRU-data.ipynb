{
 "cells": [
  {
   "cell_type": "markdown",
   "metadata": {},
   "source": [
    "# Importing CRU TS data\n",
    "\n",
    "The Climate Research Unit gridded Time Series (CRU TS) is a widely used climate dataset on a 0.5° latitude by 0.5° longitude grid over all land domains of the world except Antarctica. The dataset is introduced in this [paper](https://doi.org/10.1038/s41597-020-0453-3)."
   ]
  },
  {
   "cell_type": "code",
   "execution_count": 1,
   "metadata": {},
   "outputs": [],
   "source": [
    "from netCDF4 import Dataset\n",
    "import numpy as np\n",
    "from datetime import datetime, timedelta\n",
    "import cartopy.crs as ccrs\n",
    "import cartopy.feature as cfeature\n",
    "import matplotlib.pyplot as plt\n",
    "import seaborn as sns"
   ]
  },
  {
   "cell_type": "code",
   "execution_count": 2,
   "metadata": {},
   "outputs": [
    {
     "name": "stdout",
     "output_type": "stream",
     "text": [
      "<class 'netCDF4._netCDF4.Dataset'>\n",
      "root group (NETCDF3_CLASSIC data model, file format NETCDF3):\n",
      "    Conventions: CF-1.4\n",
      "    title: CRU TS4.05 Mean Temperature\n",
      "    institution: Data held at British Atmospheric Data Centre, RAL, UK.\n",
      "    source: Run ID = 2103051243. Data generated from:tmp.2103041709.dtb\n",
      "    history: Fri  5 Mar 13:25:53 GMT 2021 : User harry : Program makegridsauto.for called by update.for\n",
      "    references: Information on the data is available at http://badc.nerc.ac.uk/data/cru/\n",
      "    comment: Access to these data is available to any registered CEDA user.\n",
      "    contact: support@ceda.ac.uk\n",
      "    dimensions(sizes): lon(720), lat(360), time(1440)\n",
      "    variables(dimensions): float32 lon(lon), float32 lat(lat), float32 time(time), float32 tmp(time, lat, lon), int32 stn(time, lat, lon)\n",
      "    groups: \n"
     ]
    }
   ],
   "source": [
    "# load data from netCDF file\n",
    "cru_file = Dataset('../data/CRU-TS/cru_ts4.05.1901.2020.tmp.dat.nc')\n",
    "print(cru_file)"
   ]
  },
  {
   "cell_type": "markdown",
   "metadata": {},
   "source": [
    "### Explore netCDF file"
   ]
  },
  {
   "cell_type": "code",
   "execution_count": 3,
   "metadata": {},
   "outputs": [
    {
     "name": "stdout",
     "output_type": "stream",
     "text": [
      "variable: <class 'netCDF4._netCDF4.Variable'>\n",
      "float32 lon(lon)\n",
      "    long_name: longitude\n",
      "    units: degrees_east\n",
      "unlimited dimensions: \n",
      "current shape = (720,)\n",
      "filling on, default _FillValue of 9.969209968386869e+36 used \n",
      "\n",
      "variable: <class 'netCDF4._netCDF4.Variable'>\n",
      "float32 lat(lat)\n",
      "    long_name: latitude\n",
      "    units: degrees_north\n",
      "unlimited dimensions: \n",
      "current shape = (360,)\n",
      "filling on, default _FillValue of 9.969209968386869e+36 used \n",
      "\n",
      "variable: <class 'netCDF4._netCDF4.Variable'>\n",
      "float32 time(time)\n",
      "    long_name: time\n",
      "    units: days since 1900-1-1\n",
      "    calendar: gregorian\n",
      "unlimited dimensions: time\n",
      "current shape = (1440,)\n",
      "filling on, default _FillValue of 9.969209968386869e+36 used \n",
      "\n",
      "variable: <class 'netCDF4._netCDF4.Variable'>\n",
      "float32 tmp(time, lat, lon)\n",
      "    long_name: near-surface temperature\n",
      "    units: degrees Celsius\n",
      "    correlation_decay_distance: 1200.0\n",
      "    _FillValue: 9.96921e+36\n",
      "    missing_value: 9.96921e+36\n",
      "unlimited dimensions: time\n",
      "current shape = (1440, 360, 720)\n",
      "filling on \n",
      "\n",
      "variable: <class 'netCDF4._netCDF4.Variable'>\n",
      "int32 stn(time, lat, lon)\n",
      "    description: number of stations contributing to each datum\n",
      "    _FillValue: -999\n",
      "    missing_value: -999\n",
      "unlimited dimensions: time\n",
      "current shape = (1440, 360, 720)\n",
      "filling on \n",
      "\n"
     ]
    }
   ],
   "source": [
    "# variable information\n",
    "cru_vars = [var for var in cru_file.variables]\n",
    "for var in cru_vars:\n",
    "    print('variable:', cru_file.variables[var],'\\n')"
   ]
  },
  {
   "cell_type": "code",
   "execution_count": 4,
   "metadata": {},
   "outputs": [
    {
     "name": "stdout",
     "output_type": "stream",
     "text": [
      "time:\n",
      "[  380.   410.   439. ... 44118. 44149. 44179.]\n",
      "lon:\n",
      "[-179.75 -179.25 -178.75 -178.25 -177.75 -177.25 -176.75 -176.25 -175.75\n",
      " -175.25]\n",
      "lat:\n",
      "[-89.75 -89.25 -88.75 -88.25 -87.75 -87.25 -86.75 -86.25 -85.75 -85.25]\n"
     ]
    }
   ],
   "source": [
    "# get the data (except tmp, too much data for now)\n",
    "cru_lon = cru_file.variables['lon'][:]\n",
    "cru_lat = cru_file.variables['lat'][:]\n",
    "cru_time = cru_file.variables['time'][:]\n",
    "\n",
    "print('time:')\n",
    "print(cru_time)\n",
    "print('lon:')\n",
    "print(cru_lon[:10])\n",
    "print('lat:')\n",
    "print(cru_lat[:10])"
   ]
  },
  {
   "cell_type": "markdown",
   "metadata": {},
   "source": [
    "The material was collected at the Biological Station Fringilla, a field station of the Zoological Institute of the Russian Academy of Sciences, located at 55°05'N, 20°44'E. This is equal to 55.08°N, 20.73°E. The closest grid point is therefore at **55.25°N, 20.75°E**, which, unfortunately, is located in the sea. So let's have a look at the other grid points.\n",
    "\n",
    "*(Remember: 1 deg ° = 60 min)*"
   ]
  },
  {
   "cell_type": "code",
   "execution_count": 5,
   "metadata": {},
   "outputs": [
    {
     "name": "stderr",
     "output_type": "stream",
     "text": [
      "/home/robi/research/conda_envs/data/lib/python3.9/site-packages/cartopy/mpl/style.py:90: UserWarning: facecolor will have no effect as it has been defined as \"never\".\n",
      "  warnings.warn('facecolor will have no effect as it has been '\n"
     ]
    },
    {
     "data": {
      "image/png": "[encoded data removed]",
      "text/plain": [
       "<Figure size 1152x648 with 1 Axes>"
      ]
     },
     "metadata": {
      "needs_background": "light"
     },
     "output_type": "display_data"
    }
   ],
   "source": [
    "# let's plot the grid points around Kaliningrad\n",
    "fig = plt.figure(figsize=(16,9))\n",
    "ax = plt.axes(projection=ccrs.PlateCarree())\n",
    "ax.set_extent([19, 23, 53, 57])\n",
    "ax.add_feature(cfeature.BORDERS, ls='-.')\n",
    "ax.add_feature(cfeature.COASTLINE)\n",
    "ax.add_feature(cfeature.LAND, color='green', alpha=0.5)\n",
    "ax.add_feature(cfeature.OCEAN, color='blue', alpha=0.5)\n",
    "ax.add_feature(cfeature.RIVERS, color='blue', alpha=0.5)\n",
    "ax.gridlines(draw_labels=True)\n",
    "#ax.coastlines()\n",
    "#ax.stock_img()\n",
    "\n",
    "# create mesh from lon & lat\n",
    "xlon, ylat = np.meshgrid(cru_lon, cru_lat)\n",
    "ax.scatter(xlon, ylat, c='k')\n",
    "ax.plot(20.73, 55.08, 'ro')\n",
    "ax.text(20.78, 55.02, 'Fringilla', fontsize=12, color='r')\n",
    "ax.set_title('Grid Points of CRU TS Data Availability')\n",
    "\n",
    "plt.show()"
   ]
  },
  {
   "cell_type": "markdown",
   "metadata": {},
   "source": [
    "Time variable is stored as days since 1900-1-1, let's convert it to an actual date."
   ]
  },
  {
   "cell_type": "code",
   "execution_count": 14,
   "metadata": {},
   "outputs": [],
   "source": [
    "cru_date = []\n",
    "start = datetime(1900,1,1)\n",
    "for i, time in enumerate(cru_time):\n",
    "    delta = timedelta(int(cru_time[i]))\n",
    "    cru_date.append(start + delta)\n",
    "\n",
    "# and define period of years\n",
    "yfirst = 1998\n",
    "ylast = 2020\n",
    "yrs = np.arange(1998, 2020+1)\n"
   ]
  },
  {
   "cell_type": "markdown",
   "metadata": {},
   "source": [
    "Let's define the functions for data processing..."
   ]
  },
  {
   "cell_type": "code",
   "execution_count": 19,
   "metadata": {},
   "outputs": [],
   "source": [
    "def get_indexxx(cru_var, grid_point):\n",
    "    i = 0\n",
    "    for value in cru_var:\n",
    "        if value == grid_point:\n",
    "            print('index:',i)\n",
    "            print('value:',cru_var[i])\n",
    "            return i\n",
    "        else:\n",
    "            i += 1\n",
    "\n",
    "# get indices of specific grid point\n",
    "def get_index(lon, lat):\n",
    "    for i, llon, llat in enumerate(zip(cru_lon, cru_lat)):\n",
    "        if llon == lon:\n",
    "            print('index:',i)\n",
    "            print('value:',cru_lon[i])\n",
    "            ilon = i\n",
    "        if llat == lat:\n",
    "            print('index:',i)\n",
    "            print('value:',cru_lat[i])\n",
    "            ilat = i\n",
    "    return ilon, ilat\n",
    "\n",
    "# get tmp data at single grid point\n",
    "def get_tmp(lon, lat):\n",
    "    cru_tmp = cru_file.variables['tmp'][:,lat,lon]\n",
    "    print('tmp:')\n",
    "    print(cru_tmp[1400:1410])\n",
    "    return cru_tmp\n",
    "\n",
    "# extract tmp in april from data\n",
    "def tmp_in_april(tmp):\n",
    "    apr_tmp = np.zeros(len(yrs))\n",
    "    j = 0\n",
    "    for i in range(len(tmp)):\n",
    "        # \"cru_date\" and \"cru_tmp\" have same shape of (1440,)\n",
    "        if cru_date[i].year >= yfirst and cru_date[i].month == 4:\n",
    "            apr_tmp[j] = tmp[i]\n",
    "            j += 1        \n",
    "    return apr_tmp\n",
    "\n",
    "# compute mean tmp from 1st april to 31st October\n",
    "def mean_tmp_per_year(tmp):\n",
    "    yr_tmp = np.zeros(len(yrs))\n",
    "    j = 0\n",
    "    for i in range(len(tmp)):\n",
    "        # \"cru_date\" and \"cru_tmp\" have same shape of (1440,)\n",
    "        if cru_date[i].year == yrs[j] and cru_date[i].month == 4:\n",
    "            yr_tmp[j] = np.mean(tmp[i:i+7])\n",
    "            j += 1\n",
    "    return yr_tmp"
   ]
  },
  {
   "cell_type": "markdown",
   "metadata": {},
   "source": [
    "Plot mean temperature of April for two nearest land grid cells."
   ]
  },
  {
   "cell_type": "code",
   "execution_count": 17,
   "metadata": {},
   "outputs": [
    {
     "data": {
      "text/plain": [
       "21.25"
      ]
     },
     "execution_count": 17,
     "metadata": {},
     "output_type": "execute_result"
    }
   ],
   "source": [
    "lon1, lat1 = 21.25, 55.25\n",
    "lon2, lat2 = 20.75, 54.75\n",
    "\n",
    "#...\n"
   ]
  },
  {
   "cell_type": "code",
   "execution_count": null,
   "metadata": {},
   "outputs": [],
   "source": [
    "\n",
    "# plotting\n",
    "sns.set_theme(\n",
    "    style=\"darkgrid\",\n",
    "    color_codes=True,\n",
    "    palette='Dark2',\n",
    ")\n",
    "sns.scatterplot(x=yrs, y=tmp)"
   ]
  },
  {
   "cell_type": "code",
   "execution_count": 11,
   "metadata": {},
   "outputs": [
    {
     "name": "stdout",
     "output_type": "stream",
     "text": [
      "Stored 'cru_tmp_aprl' (ndarray)\n"
     ]
    }
   ],
   "source": [
    "# save tmp from cru ts dataset\n",
    "# https://ipython.org/ipython-doc/rel-0.12/config/extensions/storemagic.html\n",
    "cru_tmp_aprl = tmp\n",
    "%store cru_tmp_aprl"
   ]
  }
 ],
 "metadata": {
  "interpreter": {
   "hash": "425338c198e46b7144eb746e2c97c95fe720966119157f5fd514677b35f94246"
  },
  "kernelspec": {
   "display_name": "Python 3.9.7 64-bit (conda)",
   "language": "python",
   "name": "python3"
  },
  "language_info": {
   "codemirror_mode": {
    "name": "ipython",
    "version": 3
   },
   "file_extension": ".py",
   "mimetype": "text/x-python",
   "name": "python",
   "nbconvert_exporter": "python",
   "pygments_lexer": "ipython3",
   "version": "3.9.7"
  },
  "orig_nbformat": 4
 },
 "nbformat": 4,
 "nbformat_minor": 2
}
