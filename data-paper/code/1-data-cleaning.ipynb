{
 "cells": [
  {
   "cell_type": "markdown",
   "metadata": {},
   "source": [
    "## Quick data update\n",
    "\n",
    "Let's see which (categorical) variables they've used to classify wind direction and cloud cover:"
   ]
  },
  {
   "cell_type": "code",
   "execution_count": null,
   "metadata": {},
   "outputs": [],
   "source": [
    "for column in ['tmp', 'cloud', 'wind']:\n",
    "    print(f'unique {column} values:')\n",
    "    print('\\t',all_species[column].unique(),'\\n')\n",
    "\n",
    "# sort wind values alphabetically and print to file\n",
    "wind_directions = all_species.wind.unique().astype(str).tolist()\n",
    "with open('unique_wind_directions.txt', mode='w') as outfile:\n",
    "    for ele in sorted(wind_directions):\n",
    "        outfile.write(f'{ele}\\n')"
   ]
  }
 ],
 "metadata": {
  "interpreter": {
   "hash": "425338c198e46b7144eb746e2c97c95fe720966119157f5fd514677b35f94246"
  },
  "kernelspec": {
   "display_name": "Python 3.9.7 (conda)",
   "language": "python",
   "name": "python3"
  },
  "language_info": {
   "name": "python",
   "version": "3.9.7"
  },
  "orig_nbformat": 4
 },
 "nbformat": 4,
 "nbformat_minor": 2
}
